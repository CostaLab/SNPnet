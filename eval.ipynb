{
 "metadata": {
  "language_info": {
   "codemirror_mode": {
    "name": "ipython",
    "version": 3
   },
   "file_extension": ".py",
   "mimetype": "text/x-python",
   "name": "python",
   "nbconvert_exporter": "python",
   "pygments_lexer": "ipython3",
   "version": "3.9.0"
  },
  "orig_nbformat": 2,
  "kernelspec": {
   "name": "snpnet",
   "display_name": "snpnet",
   "language": "python"
  },
  "interpreter": {
   "hash": "d9db9d6871ce824e58d43119ba07044b4e02de0fee89141063406363fd99acd7"
  }
 },
 "nbformat": 4,
 "nbformat_minor": 2,
 "cells": [
  {
   "cell_type": "code",
   "execution_count": 6,
   "metadata": {},
   "outputs": [
    {
     "output_type": "stream",
     "name": "stdout",
     "text": [
      "The autoreload extension is already loaded. To reload it, use:\n  %reload_ext autoreload\n"
     ]
    }
   ],
   "source": [
    "%load_ext autoreload\n",
    "%autoreload 2"
   ]
  },
  {
   "cell_type": "code",
   "execution_count": 7,
   "metadata": {},
   "outputs": [],
   "source": [
    "from eval import eval_binding_acc\n",
    "from tf_net.architectures.BaseNet import Net\n",
    "from architectures.BPnetalike import BPnetalike"
   ]
  },
  {
   "cell_type": "code",
   "execution_count": 14,
   "metadata": {},
   "outputs": [
    {
     "output_type": "stream",
     "name": "stdout",
     "text": [
      "--- DUXA ---\n"
     ]
    },
    {
     "output_type": "error",
     "ename": "RuntimeError",
     "evalue": "Error(s) in loading state_dict for Net:\n\tUnexpected key(s) in state_dict: \"conv_d1.weight\", \"conv_d1.bias\", \"conv_d2.weight\", \"conv_d2.bias\". \n\tsize mismatch for conv2.weight: copying a param with shape torch.Size([16, 16, 4, 4]) from checkpoint, the shape in current model is torch.Size([64, 16, 2, 2]).\n\tsize mismatch for conv2.bias: copying a param with shape torch.Size([16]) from checkpoint, the shape in current model is torch.Size([64]).\n\tsize mismatch for fc1.weight: copying a param with shape torch.Size([160, 592]) from checkpoint, the shape in current model is torch.Size([320, 592]).\n\tsize mismatch for fc1.bias: copying a param with shape torch.Size([160]) from checkpoint, the shape in current model is torch.Size([320]).\n\tsize mismatch for fc2.weight: copying a param with shape torch.Size([80, 160]) from checkpoint, the shape in current model is torch.Size([160, 320]).\n\tsize mismatch for fc2.bias: copying a param with shape torch.Size([80]) from checkpoint, the shape in current model is torch.Size([160]).\n\tsize mismatch for fc3.weight: copying a param with shape torch.Size([16, 80]) from checkpoint, the shape in current model is torch.Size([80, 160]).\n\tsize mismatch for fc3.bias: copying a param with shape torch.Size([16]) from checkpoint, the shape in current model is torch.Size([80]).\n\tsize mismatch for fc4.weight: copying a param with shape torch.Size([2, 16]) from checkpoint, the shape in current model is torch.Size([2, 80]).",
     "traceback": [
      "\u001b[1;31m---------------------------------------------------------------------------\u001b[0m",
      "\u001b[1;31mRuntimeError\u001b[0m                              Traceback (most recent call last)",
      "\u001b[1;32m<ipython-input-14-06f56d33cd54>\u001b[0m in \u001b[0;36m<module>\u001b[1;34m\u001b[0m\n\u001b[0;32m      1\u001b[0m \u001b[1;32mfor\u001b[0m \u001b[0mtf\u001b[0m \u001b[1;32min\u001b[0m \u001b[1;33m[\u001b[0m\u001b[1;34m\"DUXA\"\u001b[0m\u001b[1;33m]\u001b[0m\u001b[1;33m:\u001b[0m\u001b[1;33m\u001b[0m\u001b[1;33m\u001b[0m\u001b[0m\n\u001b[1;32m----> 2\u001b[1;33m     \u001b[0meval_binding_acc\u001b[0m\u001b[1;33m(\u001b[0m\u001b[0mtf\u001b[0m\u001b[1;33m,\u001b[0m\u001b[0mnet\u001b[0m\u001b[1;33m=\u001b[0m\u001b[0mNet\u001b[0m\u001b[1;33m,\u001b[0m\u001b[0mbatchsize\u001b[0m\u001b[1;33m=\u001b[0m\u001b[1;36m4\u001b[0m\u001b[1;33m)\u001b[0m\u001b[1;33m\u001b[0m\u001b[1;33m\u001b[0m\u001b[0m\n\u001b[0m",
      "\u001b[1;32mc:\\Projects\\SNPnet\\eval.py\u001b[0m in \u001b[0;36meval_binding_acc\u001b[1;34m(tf, net, batchsize)\u001b[0m\n\u001b[0;32m     67\u001b[0m \u001b[1;33m\u001b[0m\u001b[0m\n\u001b[0;32m     68\u001b[0m     \u001b[0mnet\u001b[0m \u001b[1;33m=\u001b[0m \u001b[0mnet\u001b[0m\u001b[1;33m(\u001b[0m\u001b[1;33m)\u001b[0m\u001b[1;33m\u001b[0m\u001b[1;33m\u001b[0m\u001b[0m\n\u001b[1;32m---> 69\u001b[1;33m     \u001b[0mnet\u001b[0m\u001b[1;33m.\u001b[0m\u001b[0mload_state_dict\u001b[0m\u001b[1;33m(\u001b[0m\u001b[0mtorch\u001b[0m\u001b[1;33m.\u001b[0m\u001b[0mload\u001b[0m\u001b[1;33m(\u001b[0m\u001b[1;34m'tf_net/models/'\u001b[0m\u001b[1;33m+\u001b[0m\u001b[0mtf\u001b[0m\u001b[1;33m+\u001b[0m\u001b[1;34m'.pth'\u001b[0m\u001b[1;33m)\u001b[0m\u001b[1;33m)\u001b[0m\u001b[1;33m\u001b[0m\u001b[1;33m\u001b[0m\u001b[0m\n\u001b[0m\u001b[0;32m     70\u001b[0m     \u001b[0mtf_net_result\u001b[0m \u001b[1;33m=\u001b[0m \u001b[0mget_eval_results\u001b[0m\u001b[1;33m(\u001b[0m\u001b[0mnew_binding\u001b[0m\u001b[1;33m,\u001b[0m\u001b[0mnet\u001b[0m\u001b[1;33m,\u001b[0m\u001b[0mbatchsize\u001b[0m\u001b[1;33m=\u001b[0m\u001b[0mbatchsize\u001b[0m\u001b[1;33m)\u001b[0m\u001b[1;33m\u001b[0m\u001b[1;33m\u001b[0m\u001b[0m\n\u001b[0;32m     71\u001b[0m \u001b[1;33m\u001b[0m\u001b[0m\n",
      "\u001b[1;32mC:\\Software\\Python\\Python39\\lib\\site-packages\\torch\\nn\\modules\\module.py\u001b[0m in \u001b[0;36mload_state_dict\u001b[1;34m(self, state_dict, strict)\u001b[0m\n\u001b[0;32m   1404\u001b[0m \u001b[1;33m\u001b[0m\u001b[0m\n\u001b[0;32m   1405\u001b[0m         \u001b[1;32mif\u001b[0m \u001b[0mlen\u001b[0m\u001b[1;33m(\u001b[0m\u001b[0merror_msgs\u001b[0m\u001b[1;33m)\u001b[0m \u001b[1;33m>\u001b[0m \u001b[1;36m0\u001b[0m\u001b[1;33m:\u001b[0m\u001b[1;33m\u001b[0m\u001b[1;33m\u001b[0m\u001b[0m\n\u001b[1;32m-> 1406\u001b[1;33m             raise RuntimeError('Error(s) in loading state_dict for {}:\\n\\t{}'.format(\n\u001b[0m\u001b[0;32m   1407\u001b[0m                                self.__class__.__name__, \"\\n\\t\".join(error_msgs)))\n\u001b[0;32m   1408\u001b[0m         \u001b[1;32mreturn\u001b[0m \u001b[0m_IncompatibleKeys\u001b[0m\u001b[1;33m(\u001b[0m\u001b[0mmissing_keys\u001b[0m\u001b[1;33m,\u001b[0m \u001b[0munexpected_keys\u001b[0m\u001b[1;33m)\u001b[0m\u001b[1;33m\u001b[0m\u001b[1;33m\u001b[0m\u001b[0m\n",
      "\u001b[1;31mRuntimeError\u001b[0m: Error(s) in loading state_dict for Net:\n\tUnexpected key(s) in state_dict: \"conv_d1.weight\", \"conv_d1.bias\", \"conv_d2.weight\", \"conv_d2.bias\". \n\tsize mismatch for conv2.weight: copying a param with shape torch.Size([16, 16, 4, 4]) from checkpoint, the shape in current model is torch.Size([64, 16, 2, 2]).\n\tsize mismatch for conv2.bias: copying a param with shape torch.Size([16]) from checkpoint, the shape in current model is torch.Size([64]).\n\tsize mismatch for fc1.weight: copying a param with shape torch.Size([160, 592]) from checkpoint, the shape in current model is torch.Size([320, 592]).\n\tsize mismatch for fc1.bias: copying a param with shape torch.Size([160]) from checkpoint, the shape in current model is torch.Size([320]).\n\tsize mismatch for fc2.weight: copying a param with shape torch.Size([80, 160]) from checkpoint, the shape in current model is torch.Size([160, 320]).\n\tsize mismatch for fc2.bias: copying a param with shape torch.Size([80]) from checkpoint, the shape in current model is torch.Size([160]).\n\tsize mismatch for fc3.weight: copying a param with shape torch.Size([16, 80]) from checkpoint, the shape in current model is torch.Size([80, 160]).\n\tsize mismatch for fc3.bias: copying a param with shape torch.Size([16]) from checkpoint, the shape in current model is torch.Size([80]).\n\tsize mismatch for fc4.weight: copying a param with shape torch.Size([2, 16]) from checkpoint, the shape in current model is torch.Size([2, 80])."
     ]
    }
   ],
   "source": [
    "for tf in [\"DUXA\"]:\n",
    "    eval_binding_acc(tf,net=Net,batchsize=4)"
   ]
  },
  {
   "cell_type": "code",
   "execution_count": 3,
   "metadata": {},
   "outputs": [
    {
     "output_type": "stream",
     "name": "stdout",
     "text": [
      "--- DUXA ---\n",
      "Deltasvm accuracy  86.759 %\n",
      "Binding accuracy:  55.416 %\n",
      "Non-binding accuracy:  90.032 % \n",
      "\n",
      "TF_net accuracy  87.092 %\n",
      "Binding accuracy:  37.028 %\n",
      "Non-binding accuracy:  92.32 % \n",
      "\n",
      "--- ELK3 ---\n",
      "Deltasvm accuracy  73.003 %\n",
      "Binding accuracy:  83.184 %\n",
      "Non-binding accuracy:  71.515 % \n",
      "\n",
      "TF_net accuracy  82.378 %\n",
      "Binding accuracy:  62.892 %\n",
      "Non-binding accuracy:  85.225 % \n",
      "\n",
      "--- CEBPB ---\n",
      "Deltasvm accuracy  77.364 %\n",
      "Binding accuracy:  65.242 %\n",
      "Non-binding accuracy:  78.413 % \n",
      "\n",
      "TF_net accuracy  71.513 %\n",
      "Binding accuracy:  66.667 %\n",
      "Non-binding accuracy:  71.932 % \n",
      "\n",
      "--- ATF2 ---\n",
      "Deltasvm accuracy  74.412 %\n",
      "Binding accuracy:  72.256 %\n",
      "Non-binding accuracy:  75.126 % \n",
      "\n",
      "TF_net accuracy  58.77 %\n",
      "Binding accuracy:  85.061 %\n",
      "Non-binding accuracy:  50.051 % \n",
      "\n",
      "--- DLX1 ---\n",
      "Deltasvm accuracy  49.582 %\n",
      "Binding accuracy:  89.347 %\n",
      "Non-binding accuracy:  39.467 % \n",
      "\n",
      "TF_net accuracy  41.986 %\n",
      "Binding accuracy:  93.299 %\n",
      "Non-binding accuracy:  28.934 % \n",
      "\n"
     ]
    }
   ],
   "source": [
    "for tf in [\"DUXA\",\"ELK3\",\"CEBPB\",\"ATF2\",\"DLX1\"]:#,\"CEBPB\",\"ATF2\",\"DLX1\"\n",
    "    eval_binding_acc(tf,batchsize=4,split=1)"
   ]
  },
  {
   "cell_type": "code",
   "execution_count": null,
   "metadata": {},
   "outputs": [],
   "source": []
  }
 ]
}