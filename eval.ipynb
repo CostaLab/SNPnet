{
 "metadata": {
  "language_info": {
   "codemirror_mode": {
    "name": "ipython",
    "version": 3
   },
   "file_extension": ".py",
   "mimetype": "text/x-python",
   "name": "python",
   "nbconvert_exporter": "python",
   "pygments_lexer": "ipython3",
   "version": "3.9.0"
  },
  "orig_nbformat": 2,
  "kernelspec": {
   "name": "snpnet",
   "display_name": "snpnet",
   "language": "python"
  },
  "interpreter": {
   "hash": "d9db9d6871ce824e58d43119ba07044b4e02de0fee89141063406363fd99acd7"
  }
 },
 "nbformat": 4,
 "nbformat_minor": 2,
 "cells": [
  {
   "cell_type": "code",
   "execution_count": 1,
   "metadata": {},
   "outputs": [],
   "source": [
    "from eval import eval_binding_acc"
   ]
  },
  {
   "cell_type": "code",
   "execution_count": 2,
   "metadata": {},
   "outputs": [
    {
     "output_type": "stream",
     "name": "stdout",
     "text": [
      "--- DUXA ---\n",
      "Deltasvm accuracy  86.759 %\n",
      "Binding accuracy:  55.416 %\n",
      "Non-binding accuracy:  90.032 % \n",
      "\n",
      "TF_net accuracy  87.092 %\n",
      "Binding accuracy:  37.028 %\n",
      "Non-binding accuracy:  92.32 % \n",
      "\n"
     ]
    }
   ],
   "source": [
    "for tf in [\"DUXA\"]:\n",
    "    eval_binding_acc(tf,batchsize=16,split=1)"
   ]
  },
  {
   "cell_type": "code",
   "execution_count": 3,
   "metadata": {},
   "outputs": [
    {
     "output_type": "stream",
     "name": "stdout",
     "text": [
      "--- DUXA ---\n",
      "Deltasvm accuracy  86.759 %\n",
      "Binding accuracy:  55.416 %\n",
      "Non-binding accuracy:  90.032 % \n",
      "\n",
      "TF_net accuracy  87.092 %\n",
      "Binding accuracy:  37.028 %\n",
      "Non-binding accuracy:  92.32 % \n",
      "\n",
      "--- ELK3 ---\n",
      "Deltasvm accuracy  73.003 %\n",
      "Binding accuracy:  83.184 %\n",
      "Non-binding accuracy:  71.515 % \n",
      "\n",
      "TF_net accuracy  82.378 %\n",
      "Binding accuracy:  62.892 %\n",
      "Non-binding accuracy:  85.225 % \n",
      "\n",
      "--- CEBPB ---\n",
      "Deltasvm accuracy  77.364 %\n",
      "Binding accuracy:  65.242 %\n",
      "Non-binding accuracy:  78.413 % \n",
      "\n",
      "TF_net accuracy  71.513 %\n",
      "Binding accuracy:  66.667 %\n",
      "Non-binding accuracy:  71.932 % \n",
      "\n",
      "--- ATF2 ---\n",
      "Deltasvm accuracy  74.412 %\n",
      "Binding accuracy:  72.256 %\n",
      "Non-binding accuracy:  75.126 % \n",
      "\n",
      "TF_net accuracy  58.77 %\n",
      "Binding accuracy:  85.061 %\n",
      "Non-binding accuracy:  50.051 % \n",
      "\n",
      "--- DLX1 ---\n",
      "Deltasvm accuracy  49.582 %\n",
      "Binding accuracy:  89.347 %\n",
      "Non-binding accuracy:  39.467 % \n",
      "\n",
      "TF_net accuracy  41.986 %\n",
      "Binding accuracy:  93.299 %\n",
      "Non-binding accuracy:  28.934 % \n",
      "\n"
     ]
    }
   ],
   "source": [
    "for tf in [\"DUXA\",\"ELK3\",\"CEBPB\",\"ATF2\",\"DLX1\"]:#,\"CEBPB\",\"ATF2\",\"DLX1\"\n",
    "    eval_binding_acc(tf,batchsize=4,split=1)"
   ]
  },
  {
   "cell_type": "code",
   "execution_count": null,
   "metadata": {},
   "outputs": [],
   "source": []
  }
 ]
}