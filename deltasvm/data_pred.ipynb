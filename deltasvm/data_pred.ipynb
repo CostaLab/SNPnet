{
 "metadata": {
  "language_info": {
   "codemirror_mode": {
    "name": "ipython",
    "version": 3
   },
   "file_extension": ".py",
   "mimetype": "text/x-python",
   "name": "python",
   "nbconvert_exporter": "python",
   "pygments_lexer": "ipython3",
   "version": "3.9.0"
  },
  "orig_nbformat": 2,
  "kernelspec": {
   "name": "python3",
   "display_name": "Python 3.9.0 64-bit"
  },
  "interpreter": {
   "hash": "d9db9d6871ce824e58d43119ba07044b4e02de0fee89141063406363fd99acd7"
  }
 },
 "nbformat": 4,
 "nbformat_minor": 2,
 "cells": [
  {
   "cell_type": "code",
   "execution_count": 1,
   "metadata": {},
   "outputs": [],
   "source": [
    "import pandas as pd\n",
    "import os, shutil"
   ]
  },
  {
   "cell_type": "code",
   "execution_count": 2,
   "metadata": {},
   "outputs": [],
   "source": [
    "new = pd.read_csv(\"novel_batch.csv\")"
   ]
  },
  {
   "cell_type": "code",
   "execution_count": 3,
   "metadata": {},
   "outputs": [
    {
     "output_type": "execute_result",
     "data": {
      "text/plain": [
       "             TF                 snp  oligo_auc  oligo_pval        pbs  \\\n",
       "0          ALX1   chr4_39045445_G_C   2.326288    1.000000  -2.505769   \n",
       "1          ALX1   chr6_55207482_C_T   5.183158    0.516162  -1.226794   \n",
       "2          ALX1  chr12_64238141_G_A   3.457080    0.990648 -14.455958   \n",
       "3          ALX1  chr13_24789809_G_A   6.097787    0.112729   1.295581   \n",
       "4          ALX1  chr4_140856533_A_G   4.003036    0.936092   0.685027   \n",
       "...         ...                 ...        ...         ...        ...   \n",
       "1048481  ZSCAN4  chr7_130009478_G_A   7.750508    0.000004  -0.711356   \n",
       "1048482  ZSCAN4   chrX_53123802_C_T   5.314473    1.000000  -2.023551   \n",
       "1048483  ZSCAN4   chr6_53660358_C_T   4.870158    1.000000  -2.816986   \n",
       "1048484  ZSCAN4  chr1_173639148_G_T   4.205918    0.989100   0.120432   \n",
       "1048485  ZSCAN4   chr1_25990050_G_C   3.570395    1.000000  -2.450214   \n",
       "\n",
       "             pval  \n",
       "0        0.206843  \n",
       "1        0.502566  \n",
       "2        0.000004  \n",
       "3        0.342345  \n",
       "4        0.702173  \n",
       "...           ...  \n",
       "1048481  0.587102  \n",
       "1048482  0.271299  \n",
       "1048483  0.127775  \n",
       "1048484  0.926292  \n",
       "1048485  0.078164  \n",
       "\n",
       "[1048486 rows x 6 columns]"
      ],
      "text/html": "<div>\n<style scoped>\n    .dataframe tbody tr th:only-of-type {\n        vertical-align: middle;\n    }\n\n    .dataframe tbody tr th {\n        vertical-align: top;\n    }\n\n    .dataframe thead th {\n        text-align: right;\n    }\n</style>\n<table border=\"1\" class=\"dataframe\">\n  <thead>\n    <tr style=\"text-align: right;\">\n      <th></th>\n      <th>TF</th>\n      <th>snp</th>\n      <th>oligo_auc</th>\n      <th>oligo_pval</th>\n      <th>pbs</th>\n      <th>pval</th>\n    </tr>\n  </thead>\n  <tbody>\n    <tr>\n      <th>0</th>\n      <td>ALX1</td>\n      <td>chr4_39045445_G_C</td>\n      <td>2.326288</td>\n      <td>1.000000</td>\n      <td>-2.505769</td>\n      <td>0.206843</td>\n    </tr>\n    <tr>\n      <th>1</th>\n      <td>ALX1</td>\n      <td>chr6_55207482_C_T</td>\n      <td>5.183158</td>\n      <td>0.516162</td>\n      <td>-1.226794</td>\n      <td>0.502566</td>\n    </tr>\n    <tr>\n      <th>2</th>\n      <td>ALX1</td>\n      <td>chr12_64238141_G_A</td>\n      <td>3.457080</td>\n      <td>0.990648</td>\n      <td>-14.455958</td>\n      <td>0.000004</td>\n    </tr>\n    <tr>\n      <th>3</th>\n      <td>ALX1</td>\n      <td>chr13_24789809_G_A</td>\n      <td>6.097787</td>\n      <td>0.112729</td>\n      <td>1.295581</td>\n      <td>0.342345</td>\n    </tr>\n    <tr>\n      <th>4</th>\n      <td>ALX1</td>\n      <td>chr4_140856533_A_G</td>\n      <td>4.003036</td>\n      <td>0.936092</td>\n      <td>0.685027</td>\n      <td>0.702173</td>\n    </tr>\n    <tr>\n      <th>...</th>\n      <td>...</td>\n      <td>...</td>\n      <td>...</td>\n      <td>...</td>\n      <td>...</td>\n      <td>...</td>\n    </tr>\n    <tr>\n      <th>1048481</th>\n      <td>ZSCAN4</td>\n      <td>chr7_130009478_G_A</td>\n      <td>7.750508</td>\n      <td>0.000004</td>\n      <td>-0.711356</td>\n      <td>0.587102</td>\n    </tr>\n    <tr>\n      <th>1048482</th>\n      <td>ZSCAN4</td>\n      <td>chrX_53123802_C_T</td>\n      <td>5.314473</td>\n      <td>1.000000</td>\n      <td>-2.023551</td>\n      <td>0.271299</td>\n    </tr>\n    <tr>\n      <th>1048483</th>\n      <td>ZSCAN4</td>\n      <td>chr6_53660358_C_T</td>\n      <td>4.870158</td>\n      <td>1.000000</td>\n      <td>-2.816986</td>\n      <td>0.127775</td>\n    </tr>\n    <tr>\n      <th>1048484</th>\n      <td>ZSCAN4</td>\n      <td>chr1_173639148_G_T</td>\n      <td>4.205918</td>\n      <td>0.989100</td>\n      <td>0.120432</td>\n      <td>0.926292</td>\n    </tr>\n    <tr>\n      <th>1048485</th>\n      <td>ZSCAN4</td>\n      <td>chr1_25990050_G_C</td>\n      <td>3.570395</td>\n      <td>1.000000</td>\n      <td>-2.450214</td>\n      <td>0.078164</td>\n    </tr>\n  </tbody>\n</table>\n<p>1048486 rows × 6 columns</p>\n</div>"
     },
     "metadata": {},
     "execution_count": 3
    }
   ],
   "source": [
    "new"
   ]
  },
  {
   "cell_type": "code",
   "execution_count": 8,
   "metadata": {},
   "outputs": [],
   "source": [
    "def gen_input(df):\n",
    "    folder = 'input_tf/'\n",
    "    for filename in os.listdir(folder):\n",
    "        file_path = os.path.join(folder, filename)\n",
    "    try:\n",
    "        if os.path.isfile(file_path) or os.path.islink(file_path):\n",
    "            os.unlink(file_path)\n",
    "        elif os.path.isdir(file_path):\n",
    "            shutil.rmtree(file_path)\n",
    "    except Exception as e:\n",
    "        print('Failed to delete %s. Reason: %s' % (file_path, e))\n",
    "\n",
    "    tfs = df[\"TF\"].unique()\n",
    "    for tf in tfs:\n",
    "        snps =  df[df[\"TF\"]==tf][\"snp\"]\n",
    "        snps.to_csv(\"input_tf/snp_\"+tf+\".tsv\",index=False,header=False)\n"
   ]
  },
  {
   "cell_type": "code",
   "execution_count": 9,
   "metadata": {},
   "outputs": [],
   "source": [
    "gen_input(new)"
   ]
  },
  {
   "cell_type": "code",
   "execution_count": 117,
   "metadata": {},
   "outputs": [],
   "source": [
    "old = pd.read_csv(\"old_batch.csv\")"
   ]
  },
  {
   "cell_type": "code",
   "execution_count": null,
   "metadata": {},
   "outputs": [],
   "source": [
    "old[\"TF\"] = [i[0] for i in old[\"experiment\"].str.split(\".\")]\n",
    "old[\"snp\"] = old[\"oligo\"].str.split(\":\")\n",
    "old[\"snp\"] = [[i[0],int(i[1].split(\"-\")[0])+20] for i in old[\"snp\"]]\n",
    "old[\"snp\"] = [ i[0]+\"_\"+str(i[1]) for i in old[\"snp\"]]\n",
    "old[\"snp\"] = old[[\"snp\",\"ref\",\"alt\"]].agg(\"_\".join,axis=1)"
   ]
  },
  {
   "cell_type": "code",
   "execution_count": 134,
   "metadata": {},
   "outputs": [
    {
     "output_type": "execute_result",
     "data": {
      "text/plain": [
       "               experiment                      oligo  oligo_auc  oligo_pval  \\\n",
       "0         ALX1.FL.6.0.G12  chr10:114386719-114386759   3.025986    0.001328   \n",
       "1         ALX1.FL.6.0.G12  chr10:114386749-114386789   3.672496    0.000492   \n",
       "2         ALX1.FL.6.0.G12  chr10:114393556-114393596   1.068353    0.042128   \n",
       "3         ALX1.FL.6.0.G12  chr10:114619126-114619166   6.308855    0.000020   \n",
       "4         ALX1.FL.6.0.G12  chr10:114693095-114693135   1.441464    0.021576   \n",
       "...                   ...                        ...        ...         ...   \n",
       "1612167  ZNF821.FL.7.1.A6   chrX:153309026-153309066   1.796479    0.040772   \n",
       "1612168  ZNF821.FL.7.1.A6   chrX:153310303-153310343   3.158712    0.002340   \n",
       "1612169  ZNF821.FL.7.1.A6   chrX:153316004-153316044   2.959679    0.003712   \n",
       "1612170  ZNF821.FL.7.1.A6   chrX:153328990-153329030   5.297417    0.000012   \n",
       "1612171  ZNF821.FL.7.1.A6   chrX:153399789-153399829   2.353344    0.013904   \n",
       "\n",
       "        ref alt   ref_auc   alt_auc       pbs      pval         rsid      TF  \\\n",
       "0         C   T  1.440242 -1.281543  2.721785  0.317037   rs76124550    ALX1   \n",
       "1         T   C -1.629349  0.599751 -2.229100  0.403900  rs115699571    ALX1   \n",
       "2         T   G  2.041375 -2.329149  4.370524  0.128971     rs703332    ALX1   \n",
       "3         G   A  1.087764 -0.378694  1.466458  0.570718   rs74156858    ALX1   \n",
       "4         A   T  0.797774 -0.615194  1.412968  0.584316  rs116045311    ALX1   \n",
       "...      ..  ..       ...       ...       ...       ...          ...     ...   \n",
       "1612167   C   T -0.848852  0.422333 -1.271185  0.658737   rs10218386  ZNF821   \n",
       "1612168   C   T  0.903536  0.776792  0.126745  0.966324  rs143332436  ZNF821   \n",
       "1612169   G   C  0.707471  0.923807 -0.216337  0.938297  rs192424436  ZNF821   \n",
       "1612170   C   A -1.412554 -3.164647  1.752093  0.550216  rs148007267  ZNF821   \n",
       "1612171   T   C  1.217324 -0.455197  1.672521  0.567375   rs13440878  ZNF821   \n",
       "\n",
       "                         snp  \n",
       "0        chr10_114386739_C_T  \n",
       "1        chr10_114386769_T_C  \n",
       "2        chr10_114393576_T_G  \n",
       "3        chr10_114619146_G_A  \n",
       "4        chr10_114693115_A_T  \n",
       "...                      ...  \n",
       "1612167   chrX_153309046_C_T  \n",
       "1612168   chrX_153310323_C_T  \n",
       "1612169   chrX_153316024_G_C  \n",
       "1612170   chrX_153329010_C_A  \n",
       "1612171   chrX_153399809_T_C  \n",
       "\n",
       "[1612172 rows x 13 columns]"
      ],
      "text/html": "<div>\n<style scoped>\n    .dataframe tbody tr th:only-of-type {\n        vertical-align: middle;\n    }\n\n    .dataframe tbody tr th {\n        vertical-align: top;\n    }\n\n    .dataframe thead th {\n        text-align: right;\n    }\n</style>\n<table border=\"1\" class=\"dataframe\">\n  <thead>\n    <tr style=\"text-align: right;\">\n      <th></th>\n      <th>experiment</th>\n      <th>oligo</th>\n      <th>oligo_auc</th>\n      <th>oligo_pval</th>\n      <th>ref</th>\n      <th>alt</th>\n      <th>ref_auc</th>\n      <th>alt_auc</th>\n      <th>pbs</th>\n      <th>pval</th>\n      <th>rsid</th>\n      <th>TF</th>\n      <th>snp</th>\n    </tr>\n  </thead>\n  <tbody>\n    <tr>\n      <th>0</th>\n      <td>ALX1.FL.6.0.G12</td>\n      <td>chr10:114386719-114386759</td>\n      <td>3.025986</td>\n      <td>0.001328</td>\n      <td>C</td>\n      <td>T</td>\n      <td>1.440242</td>\n      <td>-1.281543</td>\n      <td>2.721785</td>\n      <td>0.317037</td>\n      <td>rs76124550</td>\n      <td>ALX1</td>\n      <td>chr10_114386739_C_T</td>\n    </tr>\n    <tr>\n      <th>1</th>\n      <td>ALX1.FL.6.0.G12</td>\n      <td>chr10:114386749-114386789</td>\n      <td>3.672496</td>\n      <td>0.000492</td>\n      <td>T</td>\n      <td>C</td>\n      <td>-1.629349</td>\n      <td>0.599751</td>\n      <td>-2.229100</td>\n      <td>0.403900</td>\n      <td>rs115699571</td>\n      <td>ALX1</td>\n      <td>chr10_114386769_T_C</td>\n    </tr>\n    <tr>\n      <th>2</th>\n      <td>ALX1.FL.6.0.G12</td>\n      <td>chr10:114393556-114393596</td>\n      <td>1.068353</td>\n      <td>0.042128</td>\n      <td>T</td>\n      <td>G</td>\n      <td>2.041375</td>\n      <td>-2.329149</td>\n      <td>4.370524</td>\n      <td>0.128971</td>\n      <td>rs703332</td>\n      <td>ALX1</td>\n      <td>chr10_114393576_T_G</td>\n    </tr>\n    <tr>\n      <th>3</th>\n      <td>ALX1.FL.6.0.G12</td>\n      <td>chr10:114619126-114619166</td>\n      <td>6.308855</td>\n      <td>0.000020</td>\n      <td>G</td>\n      <td>A</td>\n      <td>1.087764</td>\n      <td>-0.378694</td>\n      <td>1.466458</td>\n      <td>0.570718</td>\n      <td>rs74156858</td>\n      <td>ALX1</td>\n      <td>chr10_114619146_G_A</td>\n    </tr>\n    <tr>\n      <th>4</th>\n      <td>ALX1.FL.6.0.G12</td>\n      <td>chr10:114693095-114693135</td>\n      <td>1.441464</td>\n      <td>0.021576</td>\n      <td>A</td>\n      <td>T</td>\n      <td>0.797774</td>\n      <td>-0.615194</td>\n      <td>1.412968</td>\n      <td>0.584316</td>\n      <td>rs116045311</td>\n      <td>ALX1</td>\n      <td>chr10_114693115_A_T</td>\n    </tr>\n    <tr>\n      <th>...</th>\n      <td>...</td>\n      <td>...</td>\n      <td>...</td>\n      <td>...</td>\n      <td>...</td>\n      <td>...</td>\n      <td>...</td>\n      <td>...</td>\n      <td>...</td>\n      <td>...</td>\n      <td>...</td>\n      <td>...</td>\n      <td>...</td>\n    </tr>\n    <tr>\n      <th>1612167</th>\n      <td>ZNF821.FL.7.1.A6</td>\n      <td>chrX:153309026-153309066</td>\n      <td>1.796479</td>\n      <td>0.040772</td>\n      <td>C</td>\n      <td>T</td>\n      <td>-0.848852</td>\n      <td>0.422333</td>\n      <td>-1.271185</td>\n      <td>0.658737</td>\n      <td>rs10218386</td>\n      <td>ZNF821</td>\n      <td>chrX_153309046_C_T</td>\n    </tr>\n    <tr>\n      <th>1612168</th>\n      <td>ZNF821.FL.7.1.A6</td>\n      <td>chrX:153310303-153310343</td>\n      <td>3.158712</td>\n      <td>0.002340</td>\n      <td>C</td>\n      <td>T</td>\n      <td>0.903536</td>\n      <td>0.776792</td>\n      <td>0.126745</td>\n      <td>0.966324</td>\n      <td>rs143332436</td>\n      <td>ZNF821</td>\n      <td>chrX_153310323_C_T</td>\n    </tr>\n    <tr>\n      <th>1612169</th>\n      <td>ZNF821.FL.7.1.A6</td>\n      <td>chrX:153316004-153316044</td>\n      <td>2.959679</td>\n      <td>0.003712</td>\n      <td>G</td>\n      <td>C</td>\n      <td>0.707471</td>\n      <td>0.923807</td>\n      <td>-0.216337</td>\n      <td>0.938297</td>\n      <td>rs192424436</td>\n      <td>ZNF821</td>\n      <td>chrX_153316024_G_C</td>\n    </tr>\n    <tr>\n      <th>1612170</th>\n      <td>ZNF821.FL.7.1.A6</td>\n      <td>chrX:153328990-153329030</td>\n      <td>5.297417</td>\n      <td>0.000012</td>\n      <td>C</td>\n      <td>A</td>\n      <td>-1.412554</td>\n      <td>-3.164647</td>\n      <td>1.752093</td>\n      <td>0.550216</td>\n      <td>rs148007267</td>\n      <td>ZNF821</td>\n      <td>chrX_153329010_C_A</td>\n    </tr>\n    <tr>\n      <th>1612171</th>\n      <td>ZNF821.FL.7.1.A6</td>\n      <td>chrX:153399789-153399829</td>\n      <td>2.353344</td>\n      <td>0.013904</td>\n      <td>T</td>\n      <td>C</td>\n      <td>1.217324</td>\n      <td>-0.455197</td>\n      <td>1.672521</td>\n      <td>0.567375</td>\n      <td>rs13440878</td>\n      <td>ZNF821</td>\n      <td>chrX_153399809_T_C</td>\n    </tr>\n  </tbody>\n</table>\n<p>1612172 rows × 13 columns</p>\n</div>"
     },
     "metadata": {},
     "execution_count": 134
    }
   ],
   "source": [
    "old"
   ]
  },
  {
   "cell_type": "code",
   "execution_count": 135,
   "metadata": {},
   "outputs": [],
   "source": [
    "gen_input(old)"
   ]
  },
  {
   "cell_type": "code",
   "execution_count": null,
   "metadata": {},
   "outputs": [],
   "source": []
  }
 ]
}