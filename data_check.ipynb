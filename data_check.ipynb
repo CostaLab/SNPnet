{
 "metadata": {
  "language_info": {
   "codemirror_mode": {
    "name": "ipython",
    "version": 3
   },
   "file_extension": ".py",
   "mimetype": "text/x-python",
   "name": "python",
   "nbconvert_exporter": "python",
   "pygments_lexer": "ipython3",
   "version": "3.9.0"
  },
  "orig_nbformat": 4,
  "kernelspec": {
   "name": "snpnet",
   "display_name": "snpnet",
   "language": "python"
  }
 },
 "nbformat": 4,
 "nbformat_minor": 2,
 "cells": [
  {
   "cell_type": "code",
   "execution_count": 2,
   "metadata": {},
   "outputs": [],
   "source": [
    "import torch\n",
    "from torch._C import device\n",
    "import torchvision\n",
    "import torchvision.transforms as transforms\n",
    "import torch.nn.functional as F\n",
    "import torch.nn as nn\n",
    "import glob\n",
    "import os\n",
    "from tqdm import tqdm\n",
    "from sklearn import preprocessing\n",
    "import pandas as pd\n",
    "import numpy as np\n",
    "from torch.utils.data import Dataset\n",
    "import torch.optim as optim\n",
    "import matplotlib.pyplot as plt"
   ]
  },
  {
   "cell_type": "code",
   "execution_count": 3,
   "metadata": {},
   "outputs": [],
   "source": [
    "tf = \"DUXA\""
   ]
  },
  {
   "cell_type": "code",
   "execution_count": 19,
   "metadata": {},
   "outputs": [],
   "source": [
    "pos_dfs = []\n",
    "for f in glob.glob('snake/selex_seqs/'+tf+'*.flt.fa'):\n",
    "    df = pd.read_csv(f,index_col=None,header=None).iloc[1::2]\n",
    "    pos_dfs.append(df)\n",
    "\n",
    "pos_set = pd.concat(li, axis=0, ignore_index=True)\n",
    "pos_file = pos_file[0]\n",
    "neg_file = glob.glob('snake/random_seqs/'+tf+'*_4_*.flt.fa')\n",
    "neg_file = neg_file[0]\n",
    " \n",
    "neg_set = pd.read_csv(neg_file,header=None).iloc[1::2]\n",
    "\n",
    "pos_set = pos_set[pos_set[0].str.contains(\"N\")==False]\n",
    "neg_set = neg_set[neg_set[0].str.contains(\"N\")==False]"
   ]
  },
  {
   "cell_type": "code",
   "execution_count": 7,
   "metadata": {},
   "outputs": [],
   "source": [
    "test = pos_set[pos_set[0].isin(neg_set[0])]"
   ]
  },
  {
   "cell_type": "code",
   "execution_count": 20,
   "metadata": {},
   "outputs": [
    {
     "output_type": "execute_result",
     "data": {
      "text/plain": [
       "Empty DataFrame\n",
       "Columns: [0]\n",
       "Index: []"
      ],
      "text/html": "<div>\n<style scoped>\n    .dataframe tbody tr th:only-of-type {\n        vertical-align: middle;\n    }\n\n    .dataframe tbody tr th {\n        vertical-align: top;\n    }\n\n    .dataframe thead th {\n        text-align: right;\n    }\n</style>\n<table border=\"1\" class=\"dataframe\">\n  <thead>\n    <tr style=\"text-align: right;\">\n      <th></th>\n      <th>0</th>\n    </tr>\n  </thead>\n  <tbody>\n  </tbody>\n</table>\n</div>"
     },
     "metadata": {},
     "execution_count": 20
    }
   ],
   "source": [
    "pos_set"
   ]
  },
  {
   "cell_type": "code",
   "execution_count": 12,
   "metadata": {},
   "outputs": [
    {
     "output_type": "execute_result",
     "data": {
      "text/plain": [
       "['snake/selex_seqs\\\\DUXA_eDBD_1_KP_TGTGAT40NGCA.flt.fa',\n",
       " 'snake/selex_seqs\\\\DUXA_eDBD_2_KP_TGTGAT40NGCA.flt.fa',\n",
       " 'snake/selex_seqs\\\\DUXA_eDBD_3_KP_TGTGAT40NGCA.flt.fa',\n",
       " 'snake/selex_seqs\\\\DUXA_eDBD_4_KP_TGTGAT40NGCA.flt.fa']"
      ]
     },
     "metadata": {},
     "execution_count": 12
    }
   ],
   "source": []
  }
 ]
}